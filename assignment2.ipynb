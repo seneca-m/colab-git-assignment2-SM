{
  "nbformat": 4,
  "nbformat_minor": 0,
  "metadata": {
    "colab": {
      "provenance": [],
      "authorship_tag": "ABX9TyP4WquM3IU3wESSHr8hhdXq",
      "include_colab_link": true
    },
    "kernelspec": {
      "name": "python3",
      "display_name": "Python 3"
    },
    "language_info": {
      "name": "python"
    }
  },
  "cells": [
    {
      "cell_type": "markdown",
      "metadata": {
        "id": "view-in-github",
        "colab_type": "text"
      },
      "source": [
        "<a href=\"https://colab.research.google.com/github/seneca-m/colab-git-assignment2-SM/blob/main/assignment2.ipynb\" target=\"_parent\"><img src=\"https://colab.research.google.com/assets/colab-badge.svg\" alt=\"Open In Colab\"/></a>"
      ]
    },
    {
      "cell_type": "markdown",
      "source": [
        "# **Basic GitHub Operations**"
      ],
      "metadata": {
        "id": "yfT_pynkHJlQ"
      }
    },
    {
      "cell_type": "markdown",
      "source": [
        "**Configure Git in Google Colab**"
      ],
      "metadata": {
        "id": "pE-wx2eyAxmF"
      }
    },
    {
      "cell_type": "code",
      "execution_count": 1,
      "metadata": {
        "colab": {
          "base_uri": "https://localhost:8080/",
          "height": 0
        },
        "id": "OfYZ6Ba7_sgb",
        "outputId": "e557ef86-8255-4229-9b1e-055772d6ebfa"
      },
      "outputs": [
        {
          "output_type": "stream",
          "name": "stdout",
          "text": [
            "W: Skipping acquire of configured file 'main/source/Sources' as repository 'https://r2u.stat.illinois.edu/ubuntu jammy InRelease' does not seem to provide it (sources.list entry misspelt?)\n",
            "git version 2.34.1\n"
          ]
        }
      ],
      "source": [
        "# Install and Verify Git\n",
        "!apt-get update -qq && apt-get install git -qq\n",
        "!git --version\n"
      ]
    },
    {
      "cell_type": "code",
      "source": [
        "# Configuring GIT Identity\n",
        "!git config --global user.name \"seneca-m\"\n",
        "!git config --global user.email \"seneca.mathai@gmail.com\"\n",
        "!git config --list"
      ],
      "metadata": {
        "colab": {
          "base_uri": "https://localhost:8080/",
          "height": 0
        },
        "id": "2RQl7DPDAMQk",
        "outputId": "5b682d71-41a6-4887-f211-bd19e4b6f856"
      },
      "execution_count": 3,
      "outputs": [
        {
          "output_type": "stream",
          "name": "stdout",
          "text": [
            "filter.lfs.process=git-lfs filter-process\n",
            "filter.lfs.required=true\n",
            "filter.lfs.clean=git-lfs clean -- %f\n",
            "filter.lfs.smudge=git-lfs smudge -- %f\n",
            "user.name=seneca-m\n",
            "user.email=seneca.mathai@gmail.com\n"
          ]
        }
      ]
    },
    {
      "cell_type": "code",
      "source": [
        "#Setting PAT as an Environment Variable\n",
        "import os\n",
        "# commented out this line and token to avoid error in pushing to GitHub"
      ],
      "metadata": {
        "id": "1ZNUhYniAg9u"
      },
      "execution_count": 16,
      "outputs": []
    },
    {
      "cell_type": "markdown",
      "source": [
        "**Create and Clone the GitHub Repo**"
      ],
      "metadata": {
        "id": "Rp4z39-jA2X6"
      }
    },
    {
      "cell_type": "code",
      "source": [
        "# Clone into Colab\n",
        "from getpass import getpass\n",
        "import os\n",
        "token = os.environ['GITHUB_TOKEN']\n",
        "repo_url = f\"https://{token}@github.com/seneca-m/colab-git-assignment2-SM.git\"\n",
        "try:\n",
        "    get_ipython().system(f'git clone {repo_url}')\n",
        "    print(f\"\\nSuccessfully cloned the repository to /content/colab-git-assignment2-SM/\")\n",
        "except Exception as e:\n",
        "    print(f\"\\nAn error occurred during cloning: {e}\")\n",
        "    print(\"Please ensure your PAT is correct and has repo access, and the repository URL is accurate.\")\n"
      ],
      "metadata": {
        "colab": {
          "base_uri": "https://localhost:8080/",
          "height": 0
        },
        "id": "Wef9dlTnA9Qq",
        "outputId": "852362d0-3190-453f-eb46-4b0e680bca82"
      },
      "execution_count": 17,
      "outputs": [
        {
          "output_type": "stream",
          "name": "stdout",
          "text": [
            "Cloning into 'colab-git-assignment2-SM'...\n",
            "warning: You appear to have cloned an empty repository.\n",
            "\n",
            "Successfully cloned the repository to /content/colab-git-assignment2-SM/\n"
          ]
        }
      ]
    },
    {
      "cell_type": "code",
      "source": [
        "# Confirm the clone\n",
        "!ls\n",
        "!ls colab-git-assignment2-SM"
      ],
      "metadata": {
        "colab": {
          "base_uri": "https://localhost:8080/",
          "height": 0
        },
        "id": "U0A_G8igFKj3",
        "outputId": "cc22baa0-62cb-4fe4-b5be-4c31a14d5012"
      },
      "execution_count": 18,
      "outputs": [
        {
          "output_type": "stream",
          "name": "stdout",
          "text": [
            "colab-git-assignment2-SM  sample_data\n"
          ]
        }
      ]
    },
    {
      "cell_type": "markdown",
      "source": [
        "**Create & Commit the Notebook**"
      ],
      "metadata": {
        "id": "65DzqfluG07n"
      }
    },
    {
      "cell_type": "code",
      "source": [
        "%cd colab-git-assignment2-SM"
      ],
      "metadata": {
        "colab": {
          "base_uri": "https://localhost:8080/",
          "height": 0
        },
        "id": "r5kD_yOKG55v",
        "outputId": "8da9d227-5883-48d4-9a77-66a8f650e42e"
      },
      "execution_count": 19,
      "outputs": [
        {
          "output_type": "stream",
          "name": "stdout",
          "text": [
            "/content/colab-git-assignment2-SM\n"
          ]
        }
      ]
    },
    {
      "cell_type": "code",
      "source": [
        "# Confirm current directory\n",
        "!pwd"
      ],
      "metadata": {
        "colab": {
          "base_uri": "https://localhost:8080/",
          "height": 0
        },
        "id": "HT_Yw7DNI989",
        "outputId": "ddf84283-5d19-4147-aa15-2830212704d7"
      },
      "execution_count": 22,
      "outputs": [
        {
          "output_type": "stream",
          "name": "stdout",
          "text": [
            "/content/colab-git-assignment2-SM\n"
          ]
        }
      ]
    },
    {
      "cell_type": "markdown",
      "source": [
        "# Git and GitHub Assignment 2\n",
        "This notebook demonstrates basic Git operations."
      ],
      "metadata": {
        "id": "60ypM4cJJiCG"
      }
    },
    {
      "cell_type": "code",
      "source": [
        "# populating the notebook\n",
        "def multiply_numbers(a, b):\n",
        "    return a * b\n",
        "\n",
        "print(multiply_numbers(3, 4))"
      ],
      "metadata": {
        "colab": {
          "base_uri": "https://localhost:8080/",
          "height": 0
        },
        "id": "HCB05h42HDTH",
        "outputId": "6ca7d06e-e253-4ad4-ee1f-4159dfc86245"
      },
      "execution_count": 20,
      "outputs": [
        {
          "output_type": "stream",
          "name": "stdout",
          "text": [
            "12\n"
          ]
        }
      ]
    },
    {
      "cell_type": "code",
      "source": [
        "from google.colab import drive\n",
        "\n",
        "print(\"--- Mounting Google Drive ---\")\n",
        "drive.mount('/content/drive')"
      ],
      "metadata": {
        "colab": {
          "base_uri": "https://localhost:8080/",
          "height": 0
        },
        "id": "LQ_ELuh2MY3F",
        "outputId": "1fbbfefa-631b-4101-87a9-8c0f9c5f9e78"
      },
      "execution_count": 26,
      "outputs": [
        {
          "output_type": "stream",
          "name": "stdout",
          "text": [
            "--- Mounting Google Drive ---\n",
            "Mounted at /content/drive\n"
          ]
        }
      ]
    },
    {
      "cell_type": "code",
      "source": [
        "print(\"Attempting to copy 'assignment2.ipynb' from '/content/drive/MyDrive/Colab Notebooks/'...\")\n",
        "!cp \"/content/drive/MyDrive/Colab Notebooks/assignment2.ipynb\" .\n",
        "\n",
        "# List the contents of the current directory to confirm if the notebook is now successfully copied\n",
        "print(\"\\nContents of the cloned repository after trying to copy:\")\n",
        "!ls -F"
      ],
      "metadata": {
        "colab": {
          "base_uri": "https://localhost:8080/",
          "height": 0
        },
        "id": "Va3UQ8KYMhEY",
        "outputId": "dc3c411e-648c-4d5c-e3ae-b43a3e6fa608"
      },
      "execution_count": 28,
      "outputs": [
        {
          "output_type": "stream",
          "name": "stdout",
          "text": [
            "Attempting to copy 'assignment2.ipynb' from '/content/drive/MyDrive/Colab Notebooks/'...\n",
            "\n",
            "Contents of the cloned repository after trying to copy:\n",
            "assignment2.ipynb\n"
          ]
        }
      ]
    },
    {
      "cell_type": "code",
      "source": [
        "# Stage & Commit\n",
        "!git add assignment2.ipynb\n",
        "!git commit -m \"Add initial notebook with multiplication function\""
      ],
      "metadata": {
        "colab": {
          "base_uri": "https://localhost:8080/",
          "height": 0
        },
        "id": "URaobaYoHwO4",
        "outputId": "b5009a8b-a191-4297-b593-e90dd1167d43"
      },
      "execution_count": 29,
      "outputs": [
        {
          "output_type": "stream",
          "name": "stdout",
          "text": [
            "[main (root-commit) 7b0293b] Add initial notebook with multiplication function\n",
            " 1 file changed, 1 insertion(+)\n",
            " create mode 100644 assignment2.ipynb\n"
          ]
        }
      ]
    },
    {
      "cell_type": "markdown",
      "source": [
        "**Push to GitHub**"
      ],
      "metadata": {
        "id": "FmTLrn1UOB7B"
      }
    },
    {
      "cell_type": "code",
      "source": [
        "# Was getting errors for the following due to GitHub Push Protection, therefore remounting drive\n",
        "# and re-copying the notebook without the token\n",
        "# Set Remote & Push\n",
        "# !git remote add origin https://github.com/your_username/colab-git-assignment2-SM.git\n",
        "# !git push -u origin main"
      ],
      "metadata": {
        "id": "1qL7B2_EOFaV"
      },
      "execution_count": 34,
      "outputs": []
    },
    {
      "cell_type": "markdown",
      "source": [
        "Remounting drive and re-copying the notebook without the token"
      ],
      "metadata": {
        "id": "zSoBzaYNRI3V"
      }
    },
    {
      "cell_type": "code",
      "source": [
        "# First, ensure Google Drive is mounted\n",
        "from google.colab import drive\n",
        "print(\"--- Mounting Google Drive ---\")\n",
        "drive.mount('/content/drive')"
      ],
      "metadata": {
        "colab": {
          "base_uri": "https://localhost:8080/",
          "height": 0
        },
        "id": "CKTBTrvqQyZn",
        "outputId": "50daa29c-8b42-43e7-9b89-65160a5a00cd"
      },
      "execution_count": 35,
      "outputs": [
        {
          "output_type": "stream",
          "name": "stdout",
          "text": [
            "--- Mounting Google Drive ---\n",
            "Drive already mounted at /content/drive; to attempt to forcibly remount, call drive.mount(\"/content/drive\", force_remount=True).\n"
          ]
        }
      ]
    },
    {
      "cell_type": "code",
      "source": [
        "# Ensure in your cloned Git repository directory.\n",
        "%cd /content/colab-git-assignment2-SM\n",
        "print(f\"\\nCurrent directory: {os.getcwd()}\")"
      ],
      "metadata": {
        "colab": {
          "base_uri": "https://localhost:8080/",
          "height": 0
        },
        "id": "SDpNTpWQRumV",
        "outputId": "099677ef-eec1-483b-fb9c-1fb8202504a4"
      },
      "execution_count": 36,
      "outputs": [
        {
          "output_type": "stream",
          "name": "stdout",
          "text": [
            "/content/colab-git-assignment2-SM\n",
            "\n",
            "Current directory: /content/colab-git-assignment2-SM\n"
          ]
        }
      ]
    },
    {
      "cell_type": "markdown",
      "source": [
        "Push to GitHub after Taking Out the Token"
      ],
      "metadata": {
        "id": "Mvid5rsKTtEK"
      }
    },
    {
      "cell_type": "code",
      "source": [
        "!git remote add origin https://github.com/your_username/colab-git-assignment2-SM.git\n",
        "!git push -u origin main"
      ],
      "metadata": {
        "colab": {
          "base_uri": "https://localhost:8080/",
          "height": 0
        },
        "id": "n9fh4ccsR6tD",
        "outputId": "736e3ce0-81aa-4ec0-9875-18d5443a3b09"
      },
      "execution_count": 38,
      "outputs": [
        {
          "output_type": "stream",
          "name": "stdout",
          "text": [
            "error: remote origin already exists.\n",
            "Enumerating objects: 3, done.\n",
            "Counting objects: 100% (3/3), done.\n",
            "Delta compression using up to 2 threads\n",
            "Compressing objects: 100% (2/2), done.\n",
            "Writing objects: 100% (3/3), 2.85 KiB | 2.85 MiB/s, done.\n",
            "Total 3 (delta 0), reused 0 (delta 0), pack-reused 0\n",
            "To https://github.com/seneca-m/colab-git-assignment2-SM.git\n",
            " * [new branch]      main -> main\n",
            "Branch 'main' set up to track remote branch 'main' from 'origin'.\n"
          ]
        }
      ]
    },
    {
      "cell_type": "markdown",
      "source": [
        "**Branching & Feature Work**"
      ],
      "metadata": {
        "id": "MIkUCAtpXXdF"
      }
    },
    {
      "cell_type": "code",
      "source": [
        "# Create & Switch to Feature Branch\n",
        "!git checkout -b feature-division"
      ],
      "metadata": {
        "colab": {
          "base_uri": "https://localhost:8080/",
          "height": 0
        },
        "id": "apdnr32wWxy9",
        "outputId": "4a80c563-305f-4145-d22f-a6af2ce659ee"
      },
      "execution_count": 39,
      "outputs": [
        {
          "output_type": "stream",
          "name": "stdout",
          "text": [
            "Switched to a new branch 'feature-division'\n"
          ]
        }
      ]
    },
    {
      "cell_type": "code",
      "source": [
        "# Add Division Function\n",
        "def divide_numbers(a, b):\n",
        "    if b != 0:\n",
        "        return a / b\n",
        "    else:\n",
        "        return \"Cannot divide by zero\"\n",
        "\n",
        "print(divide_numbers(10, 2))"
      ],
      "metadata": {
        "colab": {
          "base_uri": "https://localhost:8080/",
          "height": 0
        },
        "id": "aAzV5OrMXuhG",
        "outputId": "4484ee39-a974-4d2f-ca21-19cc68530b59"
      },
      "execution_count": 40,
      "outputs": [
        {
          "output_type": "stream",
          "name": "stdout",
          "text": [
            "5.0\n"
          ]
        }
      ]
    },
    {
      "cell_type": "markdown",
      "source": [
        "Remounting drive and re-copying the notebook without the token to avoid errors"
      ],
      "metadata": {
        "id": "kVMnC-UGfIaT"
      }
    },
    {
      "cell_type": "code",
      "source": [
        "# Ensure Google Drive is mounted\n",
        "from google.colab import drive\n",
        "print(\"--- Mounting Google Drive ---\")\n",
        "drive.mount('/content/drive')\n",
        "\n",
        "# Ensure cloned Git repository directory.\n",
        "print(f\"\\nCurrent directory: {os.getcwd()}\")\n",
        "\n",
        "# Copy the CLEANED 'assignment2.ipynb' from Google Drive to cloned repository.\n",
        "print(\"\\nCopying the CLEANED assignment2.ipynb from Google Drive to the cloned repository...\")\n",
        "!cp \"/content/drive/MyDrive/Colab Notebooks/assignment2.ipynb\"\n",
        "\n",
        "# Verify that the cleaned notebook is in the current directory\n",
        "print(\"\\nContents of the cloned repository after re-copying:\")\n",
        "!ls -F"
      ],
      "metadata": {
        "colab": {
          "base_uri": "https://localhost:8080/",
          "height": 0
        },
        "id": "YzVCP9FAeDlZ",
        "outputId": "547d99de-c0fb-49ad-87f7-cb874696aec8"
      },
      "execution_count": 45,
      "outputs": [
        {
          "output_type": "stream",
          "name": "stdout",
          "text": [
            "--- Mounting Google Drive ---\n",
            "Drive already mounted at /content/drive; to attempt to forcibly remount, call drive.mount(\"/content/drive\", force_remount=True).\n",
            "\n",
            "Current directory: /content/colab-git-assignment2-SM\n",
            "\n",
            "Copying the CLEANED assignment2.ipynb from Google Drive to the cloned repository...\n",
            "cp: missing destination file operand after '/content/drive/MyDrive/Colab Notebooks/assignment2.ipynb'\n",
            "Try 'cp --help' for more information.\n",
            "\n",
            "Contents of the cloned repository after re-copying:\n",
            "assignment2.ipynb\n"
          ]
        }
      ]
    },
    {
      "cell_type": "code",
      "source": [
        "# Add the now-clean notebook to the staging area\n",
        "print(\"Staging the cleaned notebook for commit...\")\n",
        "!git add assignment2.ipynb\n",
        "\n",
        "# Amend the last commit.\n",
        "print(\"\\nAmending the last commit to remove the secret from history (final attempt)...\")\n",
        "!git commit --amend --no-edit"
      ],
      "metadata": {
        "colab": {
          "base_uri": "https://localhost:8080/",
          "height": 0
        },
        "id": "l85mzNKievsL",
        "outputId": "38a12586-8275-4bf5-bb26-bb5b05876de6"
      },
      "execution_count": 46,
      "outputs": [
        {
          "output_type": "stream",
          "name": "stdout",
          "text": [
            "Staging the cleaned notebook for commit...\n",
            "\n",
            "Amending the last commit to remove the secret from history (final attempt)...\n",
            "[feature-division 16f3b9b] Add initial notebook with multiplication function\n",
            " Date: Sat Jun 14 20:48:33 2025 +0000\n",
            " 1 file changed, 1 insertion(+)\n",
            " create mode 100644 assignment2.ipynb\n"
          ]
        }
      ]
    },
    {
      "cell_type": "code",
      "source": [
        "# First, ensure Google Drive is mounted\n",
        "from google.colab import drive\n",
        "print(\"--- Mounting Google Drive ---\")\n",
        "drive.mount('/content/drive')\n",
        "\n",
        "# Ensure cloned Git repository directory.\n",
        "print(f\"\\nCurrent directory: {os.getcwd()}\")\n",
        "\n",
        "# Copy the COMPLETE 'assignment2.ipynb' from Google Drive to the cloned repository.\n",
        "print(\"\\nCopying the COMPLETE assignment2.ipynb from Google Drive to the cloned repository...\")\n",
        "!cp \"/content/drive/MyDrive/Colab Notebooks/assignment2.ipynb\" .\n",
        "\n",
        "# Verify that the complete notebook is now in the current directory\n",
        "print(\"\\nContents of the cloned repository after CORRECTED re-copying:\")\n",
        "!ls -F"
      ],
      "metadata": {
        "colab": {
          "base_uri": "https://localhost:8080/"
        },
        "id": "DUKnGQqwhIFB",
        "outputId": "7b1965f4-b7b4-400c-d8bf-ee03eb58c67d"
      },
      "execution_count": 48,
      "outputs": [
        {
          "output_type": "stream",
          "name": "stdout",
          "text": [
            "--- Mounting Google Drive ---\n",
            "Drive already mounted at /content/drive; to attempt to forcibly remount, call drive.mount(\"/content/drive\", force_remount=True).\n",
            "\n",
            "Current directory: /content/colab-git-assignment2-SM\n",
            "\n",
            "Copying the COMPLETE assignment2.ipynb from Google Drive to the cloned repository...\n",
            "\n",
            "Contents of the cloned repository after CORRECTED re-copying:\n",
            "assignment2.ipynb\n"
          ]
        }
      ]
    },
    {
      "cell_type": "code",
      "source": [
        "# Add the now-complete notebook to the staging area\n",
        "print(\"\\nStaging the complete notebook for commit...\")\n",
        "!git add assignment2.ipynb\n",
        "\n",
        "# Commit the changes with a descriptive message for the new division function\n",
        "print(\"\\nCommitting the new division function to the 'feature-division' branch...\")\n",
        "!git commit -m \"Add division function to assignment2.ipynb\"\n",
        "\n",
        "# Verify the commit log for the feature-division branch\n",
        "print(\"\\nGit commit log (last 2 commits) on 'feature-division' branch:\")\n",
        "!git log --oneline -2"
      ],
      "metadata": {
        "colab": {
          "base_uri": "https://localhost:8080/"
        },
        "id": "YZzSFn6ZhVzk",
        "outputId": "e690b46b-6d6a-442a-f94f-85df439dee8b"
      },
      "execution_count": 49,
      "outputs": [
        {
          "output_type": "stream",
          "name": "stdout",
          "text": [
            "\n",
            "Staging the complete notebook for commit...\n",
            "\n",
            "Committing the new division function to the 'feature-division' branch...\n",
            "[feature-division 313e6bf] Add division function to assignment2.ipynb\n",
            " 1 file changed, 1 insertion(+), 1 deletion(-)\n",
            " rewrite assignment2.ipynb (77%)\n",
            "\n",
            "Git commit log (last 2 commits) on 'feature-division' branch:\n",
            "\u001b[33m313e6bf\u001b[m\u001b[33m (\u001b[m\u001b[1;36mHEAD -> \u001b[m\u001b[1;32mfeature-division\u001b[m\u001b[33m)\u001b[m Add division function to assignment2.ipynb\n",
            "\u001b[33m16f3b9b\u001b[m Add initial notebook with multiplication function\n"
          ]
        }
      ]
    }
  ]
}